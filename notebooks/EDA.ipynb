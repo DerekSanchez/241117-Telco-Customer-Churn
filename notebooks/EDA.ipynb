{
 "cells": [
  {
   "cell_type": "markdown",
   "metadata": {},
   "source": [
    "# Exploratory Data Analysis"
   ]
  },
  {
   "cell_type": "markdown",
   "metadata": {},
   "source": [
    "## Initial Settings"
   ]
  },
  {
   "cell_type": "markdown",
   "metadata": {},
   "source": [
    "### Roots and Paths"
   ]
  },
  {
   "cell_type": "code",
   "execution_count": 1,
   "metadata": {},
   "outputs": [],
   "source": [
    "import sys\n",
    "from pathlib import Path\n",
    "\n",
    "# Ruta a la raíz del proyecto\n",
    "project_root = Path().resolve().parent\n",
    "sys.path.append(str(project_root))"
   ]
  },
  {
   "cell_type": "markdown",
   "metadata": {},
   "source": [
    "### Libraries and Dependencies"
   ]
  },
  {
   "cell_type": "code",
   "execution_count": 2,
   "metadata": {},
   "outputs": [
    {
     "name": "stdout",
     "output_type": "stream",
     "text": [
      "project path: C:\\Users\\Usuario\\OneDrive\\Documentos\\Proyectos Personales\\Data Science\\Public Portfolio Data Science\\241117 Telco Customer Churn\n",
      "raw data path: C:\\Users\\Usuario\\OneDrive\\Documentos\\Proyectos Personales\\Data Science\\Public Portfolio Data Science\\241117 Telco Customer Churn\\data\\raw_data.csv\n",
      "clean data path: C:\\Users\\Usuario\\OneDrive\\Documentos\\Proyectos Personales\\Data Science\\Public Portfolio Data Science\\241117 Telco Customer Churn\\data\\clean_data.csv\n",
      "model path C:\\Users\\Usuario\\OneDrive\\Documentos\\Proyectos Personales\\Data Science\\Public Portfolio Data Science\\241117 Telco Customer Churn\\models\\model.pkl\n",
      "results path C:\\Users\\Usuario\\OneDrive\\Documentos\\Proyectos Personales\\Data Science\\Public Portfolio Data Science\\241117 Telco Customer Churn\\results\n"
     ]
    }
   ],
   "source": [
    "import src.utils as ut\n",
    "import src.config as cf\n",
    "import pandas as pd\n",
    "import seaborn as sns\n",
    "import matplotlib.pyplot as plt\n",
    "from IPython.display import display\n",
    "from scipy.stats import f_oneway\n",
    "from scipy.stats import chi2_contingency\n",
    "from sklearn.preprocessing import LabelEncoder\n",
    "from sklearn.ensemble import RandomForestClassifier\n",
    "\n",
    "pd.options.display.max_columns = None\n",
    "sns.set_style('dark')\n",
    "sns.set_palette('dark')"
   ]
  },
  {
   "cell_type": "markdown",
   "metadata": {},
   "source": [
    "### Data Loading"
   ]
  },
  {
   "cell_type": "code",
   "execution_count": 3,
   "metadata": {},
   "outputs": [
    {
     "data": {
      "text/html": [
       "<div>\n",
       "<style scoped>\n",
       "    .dataframe tbody tr th:only-of-type {\n",
       "        vertical-align: middle;\n",
       "    }\n",
       "\n",
       "    .dataframe tbody tr th {\n",
       "        vertical-align: top;\n",
       "    }\n",
       "\n",
       "    .dataframe thead th {\n",
       "        text-align: right;\n",
       "    }\n",
       "</style>\n",
       "<table border=\"1\" class=\"dataframe\">\n",
       "  <thead>\n",
       "    <tr style=\"text-align: right;\">\n",
       "      <th></th>\n",
       "      <th>customerID</th>\n",
       "      <th>gender</th>\n",
       "      <th>SeniorCitizen</th>\n",
       "      <th>Partner</th>\n",
       "      <th>Dependents</th>\n",
       "      <th>tenure</th>\n",
       "      <th>PhoneService</th>\n",
       "      <th>MultipleLines</th>\n",
       "      <th>InternetService</th>\n",
       "      <th>OnlineSecurity</th>\n",
       "      <th>OnlineBackup</th>\n",
       "      <th>DeviceProtection</th>\n",
       "      <th>TechSupport</th>\n",
       "      <th>StreamingTV</th>\n",
       "      <th>StreamingMovies</th>\n",
       "      <th>Contract</th>\n",
       "      <th>PaperlessBilling</th>\n",
       "      <th>PaymentMethod</th>\n",
       "      <th>MonthlyCharges</th>\n",
       "      <th>TotalCharges</th>\n",
       "      <th>Churn</th>\n",
       "    </tr>\n",
       "  </thead>\n",
       "  <tbody>\n",
       "    <tr>\n",
       "      <th>0</th>\n",
       "      <td>7590-VHVEG</td>\n",
       "      <td>Female</td>\n",
       "      <td>0</td>\n",
       "      <td>Yes</td>\n",
       "      <td>No</td>\n",
       "      <td>1</td>\n",
       "      <td>No</td>\n",
       "      <td>No phone service</td>\n",
       "      <td>DSL</td>\n",
       "      <td>No</td>\n",
       "      <td>Yes</td>\n",
       "      <td>No</td>\n",
       "      <td>No</td>\n",
       "      <td>No</td>\n",
       "      <td>No</td>\n",
       "      <td>Month-to-month</td>\n",
       "      <td>Yes</td>\n",
       "      <td>Electronic check</td>\n",
       "      <td>29.85</td>\n",
       "      <td>29.85</td>\n",
       "      <td>No</td>\n",
       "    </tr>\n",
       "    <tr>\n",
       "      <th>1</th>\n",
       "      <td>5575-GNVDE</td>\n",
       "      <td>Male</td>\n",
       "      <td>0</td>\n",
       "      <td>No</td>\n",
       "      <td>No</td>\n",
       "      <td>34</td>\n",
       "      <td>Yes</td>\n",
       "      <td>No</td>\n",
       "      <td>DSL</td>\n",
       "      <td>Yes</td>\n",
       "      <td>No</td>\n",
       "      <td>Yes</td>\n",
       "      <td>No</td>\n",
       "      <td>No</td>\n",
       "      <td>No</td>\n",
       "      <td>One year</td>\n",
       "      <td>No</td>\n",
       "      <td>Mailed check</td>\n",
       "      <td>56.95</td>\n",
       "      <td>1889.5</td>\n",
       "      <td>No</td>\n",
       "    </tr>\n",
       "    <tr>\n",
       "      <th>2</th>\n",
       "      <td>3668-QPYBK</td>\n",
       "      <td>Male</td>\n",
       "      <td>0</td>\n",
       "      <td>No</td>\n",
       "      <td>No</td>\n",
       "      <td>2</td>\n",
       "      <td>Yes</td>\n",
       "      <td>No</td>\n",
       "      <td>DSL</td>\n",
       "      <td>Yes</td>\n",
       "      <td>Yes</td>\n",
       "      <td>No</td>\n",
       "      <td>No</td>\n",
       "      <td>No</td>\n",
       "      <td>No</td>\n",
       "      <td>Month-to-month</td>\n",
       "      <td>Yes</td>\n",
       "      <td>Mailed check</td>\n",
       "      <td>53.85</td>\n",
       "      <td>108.15</td>\n",
       "      <td>Yes</td>\n",
       "    </tr>\n",
       "    <tr>\n",
       "      <th>3</th>\n",
       "      <td>7795-CFOCW</td>\n",
       "      <td>Male</td>\n",
       "      <td>0</td>\n",
       "      <td>No</td>\n",
       "      <td>No</td>\n",
       "      <td>45</td>\n",
       "      <td>No</td>\n",
       "      <td>No phone service</td>\n",
       "      <td>DSL</td>\n",
       "      <td>Yes</td>\n",
       "      <td>No</td>\n",
       "      <td>Yes</td>\n",
       "      <td>Yes</td>\n",
       "      <td>No</td>\n",
       "      <td>No</td>\n",
       "      <td>One year</td>\n",
       "      <td>No</td>\n",
       "      <td>Bank transfer (automatic)</td>\n",
       "      <td>42.30</td>\n",
       "      <td>1840.75</td>\n",
       "      <td>No</td>\n",
       "    </tr>\n",
       "    <tr>\n",
       "      <th>4</th>\n",
       "      <td>9237-HQITU</td>\n",
       "      <td>Female</td>\n",
       "      <td>0</td>\n",
       "      <td>No</td>\n",
       "      <td>No</td>\n",
       "      <td>2</td>\n",
       "      <td>Yes</td>\n",
       "      <td>No</td>\n",
       "      <td>Fiber optic</td>\n",
       "      <td>No</td>\n",
       "      <td>No</td>\n",
       "      <td>No</td>\n",
       "      <td>No</td>\n",
       "      <td>No</td>\n",
       "      <td>No</td>\n",
       "      <td>Month-to-month</td>\n",
       "      <td>Yes</td>\n",
       "      <td>Electronic check</td>\n",
       "      <td>70.70</td>\n",
       "      <td>151.65</td>\n",
       "      <td>Yes</td>\n",
       "    </tr>\n",
       "  </tbody>\n",
       "</table>\n",
       "</div>"
      ],
      "text/plain": [
       "   customerID  gender  SeniorCitizen Partner Dependents  tenure PhoneService  \\\n",
       "0  7590-VHVEG  Female              0     Yes         No       1           No   \n",
       "1  5575-GNVDE    Male              0      No         No      34          Yes   \n",
       "2  3668-QPYBK    Male              0      No         No       2          Yes   \n",
       "3  7795-CFOCW    Male              0      No         No      45           No   \n",
       "4  9237-HQITU  Female              0      No         No       2          Yes   \n",
       "\n",
       "      MultipleLines InternetService OnlineSecurity OnlineBackup  \\\n",
       "0  No phone service             DSL             No          Yes   \n",
       "1                No             DSL            Yes           No   \n",
       "2                No             DSL            Yes          Yes   \n",
       "3  No phone service             DSL            Yes           No   \n",
       "4                No     Fiber optic             No           No   \n",
       "\n",
       "  DeviceProtection TechSupport StreamingTV StreamingMovies        Contract  \\\n",
       "0               No          No          No              No  Month-to-month   \n",
       "1              Yes          No          No              No        One year   \n",
       "2               No          No          No              No  Month-to-month   \n",
       "3              Yes         Yes          No              No        One year   \n",
       "4               No          No          No              No  Month-to-month   \n",
       "\n",
       "  PaperlessBilling              PaymentMethod  MonthlyCharges TotalCharges  \\\n",
       "0              Yes           Electronic check           29.85        29.85   \n",
       "1               No               Mailed check           56.95       1889.5   \n",
       "2              Yes               Mailed check           53.85       108.15   \n",
       "3               No  Bank transfer (automatic)           42.30      1840.75   \n",
       "4              Yes           Electronic check           70.70       151.65   \n",
       "\n",
       "  Churn  \n",
       "0    No  \n",
       "1    No  \n",
       "2   Yes  \n",
       "3    No  \n",
       "4   Yes  "
      ]
     },
     "execution_count": 3,
     "metadata": {},
     "output_type": "execute_result"
    }
   ],
   "source": [
    "df = ut.load_data(cf.raw_data_path)\n",
    "df.head()"
   ]
  },
  {
   "cell_type": "markdown",
   "metadata": {},
   "source": [
    "## Preliminary EDA"
   ]
  },
  {
   "cell_type": "markdown",
   "metadata": {},
   "source": [
    "### Basic Information"
   ]
  },
  {
   "cell_type": "code",
   "execution_count": 4,
   "metadata": {},
   "outputs": [
    {
     "name": "stdout",
     "output_type": "stream",
     "text": [
      "Dimensions: (7043, 21)\n"
     ]
    },
    {
     "data": {
      "text/html": [
       "<style type=\"text/css\">\n",
       "#T_52342 th {\n",
       "  text-align: center;\n",
       "}\n",
       "#T_52342_row0_col0, #T_52342_row0_col1, #T_52342_row0_col2, #T_52342_row0_col3, #T_52342_row0_col4, #T_52342_row1_col0, #T_52342_row1_col1, #T_52342_row1_col2, #T_52342_row1_col3, #T_52342_row1_col4, #T_52342_row2_col0, #T_52342_row2_col1, #T_52342_row2_col2, #T_52342_row2_col3, #T_52342_row2_col4, #T_52342_row3_col0, #T_52342_row3_col1, #T_52342_row3_col2, #T_52342_row3_col3, #T_52342_row3_col4, #T_52342_row4_col0, #T_52342_row4_col1, #T_52342_row4_col2, #T_52342_row4_col3, #T_52342_row4_col4, #T_52342_row5_col0, #T_52342_row5_col1, #T_52342_row5_col2, #T_52342_row5_col3, #T_52342_row5_col4, #T_52342_row6_col0, #T_52342_row6_col1, #T_52342_row6_col2, #T_52342_row6_col3, #T_52342_row6_col4, #T_52342_row7_col0, #T_52342_row7_col1, #T_52342_row7_col2, #T_52342_row7_col3, #T_52342_row7_col4, #T_52342_row8_col0, #T_52342_row8_col1, #T_52342_row8_col2, #T_52342_row8_col3, #T_52342_row8_col4, #T_52342_row9_col0, #T_52342_row9_col1, #T_52342_row9_col2, #T_52342_row9_col3, #T_52342_row9_col4, #T_52342_row10_col0, #T_52342_row10_col1, #T_52342_row10_col2, #T_52342_row10_col3, #T_52342_row10_col4, #T_52342_row11_col0, #T_52342_row11_col1, #T_52342_row11_col2, #T_52342_row11_col3, #T_52342_row11_col4, #T_52342_row12_col0, #T_52342_row12_col1, #T_52342_row12_col2, #T_52342_row12_col3, #T_52342_row12_col4, #T_52342_row13_col0, #T_52342_row13_col1, #T_52342_row13_col2, #T_52342_row13_col3, #T_52342_row13_col4, #T_52342_row14_col0, #T_52342_row14_col1, #T_52342_row14_col2, #T_52342_row14_col3, #T_52342_row14_col4, #T_52342_row15_col0, #T_52342_row15_col1, #T_52342_row15_col2, #T_52342_row15_col3, #T_52342_row15_col4, #T_52342_row16_col0, #T_52342_row16_col1, #T_52342_row16_col2, #T_52342_row16_col3, #T_52342_row16_col4, #T_52342_row17_col0, #T_52342_row17_col1, #T_52342_row17_col2, #T_52342_row17_col3, #T_52342_row17_col4, #T_52342_row18_col0, #T_52342_row18_col1, #T_52342_row18_col2, #T_52342_row18_col3, #T_52342_row18_col4, #T_52342_row19_col0, #T_52342_row19_col1, #T_52342_row19_col2, #T_52342_row19_col3, #T_52342_row19_col4, #T_52342_row20_col0, #T_52342_row20_col1, #T_52342_row20_col2, #T_52342_row20_col3, #T_52342_row20_col4 {\n",
       "  text-align: center;\n",
       "}\n",
       "</style>\n",
       "<table id=\"T_52342\">\n",
       "  <thead>\n",
       "    <tr>\n",
       "      <th id=\"T_52342_level0_col0\" class=\"col_heading level0 col0\" >Column</th>\n",
       "      <th id=\"T_52342_level0_col1\" class=\"col_heading level0 col1\" >Non-Null Count</th>\n",
       "      <th id=\"T_52342_level0_col2\" class=\"col_heading level0 col2\" >Missing %</th>\n",
       "      <th id=\"T_52342_level0_col3\" class=\"col_heading level0 col3\" >Unique Values</th>\n",
       "      <th id=\"T_52342_level0_col4\" class=\"col_heading level0 col4\" >Data Type</th>\n",
       "    </tr>\n",
       "  </thead>\n",
       "  <tbody>\n",
       "    <tr>\n",
       "      <td id=\"T_52342_row0_col0\" class=\"data row0 col0\" >customerID</td>\n",
       "      <td id=\"T_52342_row0_col1\" class=\"data row0 col1\" >7,043</td>\n",
       "      <td id=\"T_52342_row0_col2\" class=\"data row0 col2\" >0.000000</td>\n",
       "      <td id=\"T_52342_row0_col3\" class=\"data row0 col3\" >7,043</td>\n",
       "      <td id=\"T_52342_row0_col4\" class=\"data row0 col4\" >object</td>\n",
       "    </tr>\n",
       "    <tr>\n",
       "      <td id=\"T_52342_row1_col0\" class=\"data row1 col0\" >DeviceProtection</td>\n",
       "      <td id=\"T_52342_row1_col1\" class=\"data row1 col1\" >7,043</td>\n",
       "      <td id=\"T_52342_row1_col2\" class=\"data row1 col2\" >0.000000</td>\n",
       "      <td id=\"T_52342_row1_col3\" class=\"data row1 col3\" >3</td>\n",
       "      <td id=\"T_52342_row1_col4\" class=\"data row1 col4\" >object</td>\n",
       "    </tr>\n",
       "    <tr>\n",
       "      <td id=\"T_52342_row2_col0\" class=\"data row2 col0\" >TotalCharges</td>\n",
       "      <td id=\"T_52342_row2_col1\" class=\"data row2 col1\" >7,043</td>\n",
       "      <td id=\"T_52342_row2_col2\" class=\"data row2 col2\" >0.000000</td>\n",
       "      <td id=\"T_52342_row2_col3\" class=\"data row2 col3\" >6,531</td>\n",
       "      <td id=\"T_52342_row2_col4\" class=\"data row2 col4\" >object</td>\n",
       "    </tr>\n",
       "    <tr>\n",
       "      <td id=\"T_52342_row3_col0\" class=\"data row3 col0\" >MonthlyCharges</td>\n",
       "      <td id=\"T_52342_row3_col1\" class=\"data row3 col1\" >7,043</td>\n",
       "      <td id=\"T_52342_row3_col2\" class=\"data row3 col2\" >0.000000</td>\n",
       "      <td id=\"T_52342_row3_col3\" class=\"data row3 col3\" >1,585</td>\n",
       "      <td id=\"T_52342_row3_col4\" class=\"data row3 col4\" >float64</td>\n",
       "    </tr>\n",
       "    <tr>\n",
       "      <td id=\"T_52342_row4_col0\" class=\"data row4 col0\" >PaymentMethod</td>\n",
       "      <td id=\"T_52342_row4_col1\" class=\"data row4 col1\" >7,043</td>\n",
       "      <td id=\"T_52342_row4_col2\" class=\"data row4 col2\" >0.000000</td>\n",
       "      <td id=\"T_52342_row4_col3\" class=\"data row4 col3\" >4</td>\n",
       "      <td id=\"T_52342_row4_col4\" class=\"data row4 col4\" >object</td>\n",
       "    </tr>\n",
       "    <tr>\n",
       "      <td id=\"T_52342_row5_col0\" class=\"data row5 col0\" >PaperlessBilling</td>\n",
       "      <td id=\"T_52342_row5_col1\" class=\"data row5 col1\" >7,043</td>\n",
       "      <td id=\"T_52342_row5_col2\" class=\"data row5 col2\" >0.000000</td>\n",
       "      <td id=\"T_52342_row5_col3\" class=\"data row5 col3\" >2</td>\n",
       "      <td id=\"T_52342_row5_col4\" class=\"data row5 col4\" >object</td>\n",
       "    </tr>\n",
       "    <tr>\n",
       "      <td id=\"T_52342_row6_col0\" class=\"data row6 col0\" >Contract</td>\n",
       "      <td id=\"T_52342_row6_col1\" class=\"data row6 col1\" >7,043</td>\n",
       "      <td id=\"T_52342_row6_col2\" class=\"data row6 col2\" >0.000000</td>\n",
       "      <td id=\"T_52342_row6_col3\" class=\"data row6 col3\" >3</td>\n",
       "      <td id=\"T_52342_row6_col4\" class=\"data row6 col4\" >object</td>\n",
       "    </tr>\n",
       "    <tr>\n",
       "      <td id=\"T_52342_row7_col0\" class=\"data row7 col0\" >StreamingMovies</td>\n",
       "      <td id=\"T_52342_row7_col1\" class=\"data row7 col1\" >7,043</td>\n",
       "      <td id=\"T_52342_row7_col2\" class=\"data row7 col2\" >0.000000</td>\n",
       "      <td id=\"T_52342_row7_col3\" class=\"data row7 col3\" >3</td>\n",
       "      <td id=\"T_52342_row7_col4\" class=\"data row7 col4\" >object</td>\n",
       "    </tr>\n",
       "    <tr>\n",
       "      <td id=\"T_52342_row8_col0\" class=\"data row8 col0\" >StreamingTV</td>\n",
       "      <td id=\"T_52342_row8_col1\" class=\"data row8 col1\" >7,043</td>\n",
       "      <td id=\"T_52342_row8_col2\" class=\"data row8 col2\" >0.000000</td>\n",
       "      <td id=\"T_52342_row8_col3\" class=\"data row8 col3\" >3</td>\n",
       "      <td id=\"T_52342_row8_col4\" class=\"data row8 col4\" >object</td>\n",
       "    </tr>\n",
       "    <tr>\n",
       "      <td id=\"T_52342_row9_col0\" class=\"data row9 col0\" >TechSupport</td>\n",
       "      <td id=\"T_52342_row9_col1\" class=\"data row9 col1\" >7,043</td>\n",
       "      <td id=\"T_52342_row9_col2\" class=\"data row9 col2\" >0.000000</td>\n",
       "      <td id=\"T_52342_row9_col3\" class=\"data row9 col3\" >3</td>\n",
       "      <td id=\"T_52342_row9_col4\" class=\"data row9 col4\" >object</td>\n",
       "    </tr>\n",
       "    <tr>\n",
       "      <td id=\"T_52342_row10_col0\" class=\"data row10 col0\" >OnlineBackup</td>\n",
       "      <td id=\"T_52342_row10_col1\" class=\"data row10 col1\" >7,043</td>\n",
       "      <td id=\"T_52342_row10_col2\" class=\"data row10 col2\" >0.000000</td>\n",
       "      <td id=\"T_52342_row10_col3\" class=\"data row10 col3\" >3</td>\n",
       "      <td id=\"T_52342_row10_col4\" class=\"data row10 col4\" >object</td>\n",
       "    </tr>\n",
       "    <tr>\n",
       "      <td id=\"T_52342_row11_col0\" class=\"data row11 col0\" >gender</td>\n",
       "      <td id=\"T_52342_row11_col1\" class=\"data row11 col1\" >7,043</td>\n",
       "      <td id=\"T_52342_row11_col2\" class=\"data row11 col2\" >0.000000</td>\n",
       "      <td id=\"T_52342_row11_col3\" class=\"data row11 col3\" >2</td>\n",
       "      <td id=\"T_52342_row11_col4\" class=\"data row11 col4\" >object</td>\n",
       "    </tr>\n",
       "    <tr>\n",
       "      <td id=\"T_52342_row12_col0\" class=\"data row12 col0\" >OnlineSecurity</td>\n",
       "      <td id=\"T_52342_row12_col1\" class=\"data row12 col1\" >7,043</td>\n",
       "      <td id=\"T_52342_row12_col2\" class=\"data row12 col2\" >0.000000</td>\n",
       "      <td id=\"T_52342_row12_col3\" class=\"data row12 col3\" >3</td>\n",
       "      <td id=\"T_52342_row12_col4\" class=\"data row12 col4\" >object</td>\n",
       "    </tr>\n",
       "    <tr>\n",
       "      <td id=\"T_52342_row13_col0\" class=\"data row13 col0\" >InternetService</td>\n",
       "      <td id=\"T_52342_row13_col1\" class=\"data row13 col1\" >7,043</td>\n",
       "      <td id=\"T_52342_row13_col2\" class=\"data row13 col2\" >0.000000</td>\n",
       "      <td id=\"T_52342_row13_col3\" class=\"data row13 col3\" >3</td>\n",
       "      <td id=\"T_52342_row13_col4\" class=\"data row13 col4\" >object</td>\n",
       "    </tr>\n",
       "    <tr>\n",
       "      <td id=\"T_52342_row14_col0\" class=\"data row14 col0\" >MultipleLines</td>\n",
       "      <td id=\"T_52342_row14_col1\" class=\"data row14 col1\" >7,043</td>\n",
       "      <td id=\"T_52342_row14_col2\" class=\"data row14 col2\" >0.000000</td>\n",
       "      <td id=\"T_52342_row14_col3\" class=\"data row14 col3\" >3</td>\n",
       "      <td id=\"T_52342_row14_col4\" class=\"data row14 col4\" >object</td>\n",
       "    </tr>\n",
       "    <tr>\n",
       "      <td id=\"T_52342_row15_col0\" class=\"data row15 col0\" >PhoneService</td>\n",
       "      <td id=\"T_52342_row15_col1\" class=\"data row15 col1\" >7,043</td>\n",
       "      <td id=\"T_52342_row15_col2\" class=\"data row15 col2\" >0.000000</td>\n",
       "      <td id=\"T_52342_row15_col3\" class=\"data row15 col3\" >2</td>\n",
       "      <td id=\"T_52342_row15_col4\" class=\"data row15 col4\" >object</td>\n",
       "    </tr>\n",
       "    <tr>\n",
       "      <td id=\"T_52342_row16_col0\" class=\"data row16 col0\" >tenure</td>\n",
       "      <td id=\"T_52342_row16_col1\" class=\"data row16 col1\" >7,043</td>\n",
       "      <td id=\"T_52342_row16_col2\" class=\"data row16 col2\" >0.000000</td>\n",
       "      <td id=\"T_52342_row16_col3\" class=\"data row16 col3\" >73</td>\n",
       "      <td id=\"T_52342_row16_col4\" class=\"data row16 col4\" >int64</td>\n",
       "    </tr>\n",
       "    <tr>\n",
       "      <td id=\"T_52342_row17_col0\" class=\"data row17 col0\" >Dependents</td>\n",
       "      <td id=\"T_52342_row17_col1\" class=\"data row17 col1\" >7,043</td>\n",
       "      <td id=\"T_52342_row17_col2\" class=\"data row17 col2\" >0.000000</td>\n",
       "      <td id=\"T_52342_row17_col3\" class=\"data row17 col3\" >2</td>\n",
       "      <td id=\"T_52342_row17_col4\" class=\"data row17 col4\" >object</td>\n",
       "    </tr>\n",
       "    <tr>\n",
       "      <td id=\"T_52342_row18_col0\" class=\"data row18 col0\" >Partner</td>\n",
       "      <td id=\"T_52342_row18_col1\" class=\"data row18 col1\" >7,043</td>\n",
       "      <td id=\"T_52342_row18_col2\" class=\"data row18 col2\" >0.000000</td>\n",
       "      <td id=\"T_52342_row18_col3\" class=\"data row18 col3\" >2</td>\n",
       "      <td id=\"T_52342_row18_col4\" class=\"data row18 col4\" >object</td>\n",
       "    </tr>\n",
       "    <tr>\n",
       "      <td id=\"T_52342_row19_col0\" class=\"data row19 col0\" >SeniorCitizen</td>\n",
       "      <td id=\"T_52342_row19_col1\" class=\"data row19 col1\" >7,043</td>\n",
       "      <td id=\"T_52342_row19_col2\" class=\"data row19 col2\" >0.000000</td>\n",
       "      <td id=\"T_52342_row19_col3\" class=\"data row19 col3\" >2</td>\n",
       "      <td id=\"T_52342_row19_col4\" class=\"data row19 col4\" >int64</td>\n",
       "    </tr>\n",
       "    <tr>\n",
       "      <td id=\"T_52342_row20_col0\" class=\"data row20 col0\" >Churn</td>\n",
       "      <td id=\"T_52342_row20_col1\" class=\"data row20 col1\" >7,043</td>\n",
       "      <td id=\"T_52342_row20_col2\" class=\"data row20 col2\" >0.000000</td>\n",
       "      <td id=\"T_52342_row20_col3\" class=\"data row20 col3\" >2</td>\n",
       "      <td id=\"T_52342_row20_col4\" class=\"data row20 col4\" >object</td>\n",
       "    </tr>\n",
       "  </tbody>\n",
       "</table>\n"
      ],
      "text/plain": [
       "<pandas.io.formats.style.Styler at 0x12c0d09d310>"
      ]
     },
     "metadata": {},
     "output_type": "display_data"
    }
   ],
   "source": [
    "# dataset size\n",
    "print(f'Dimensions: {df.shape}')\n",
    "\n",
    "# summary table\n",
    "ut.summary_info(df)"
   ]
  },
  {
   "cell_type": "markdown",
   "metadata": {},
   "source": [
    "### Missing Values"
   ]
  },
  {
   "cell_type": "code",
   "execution_count": 5,
   "metadata": {},
   "outputs": [
    {
     "data": {
      "text/html": [
       "<div>\n",
       "<style scoped>\n",
       "    .dataframe tbody tr th:only-of-type {\n",
       "        vertical-align: middle;\n",
       "    }\n",
       "\n",
       "    .dataframe tbody tr th {\n",
       "        vertical-align: top;\n",
       "    }\n",
       "\n",
       "    .dataframe thead th {\n",
       "        text-align: right;\n",
       "    }\n",
       "</style>\n",
       "<table border=\"1\" class=\"dataframe\">\n",
       "  <thead>\n",
       "    <tr style=\"text-align: right;\">\n",
       "      <th>StreamingTV</th>\n",
       "      <th>No</th>\n",
       "      <th>No internet service</th>\n",
       "      <th>Yes</th>\n",
       "    </tr>\n",
       "  </thead>\n",
       "  <tbody>\n",
       "    <tr>\n",
       "      <th>customerID</th>\n",
       "      <td>0.0</td>\n",
       "      <td>0.0</td>\n",
       "      <td>0.0</td>\n",
       "    </tr>\n",
       "    <tr>\n",
       "      <th>gender</th>\n",
       "      <td>0.0</td>\n",
       "      <td>0.0</td>\n",
       "      <td>0.0</td>\n",
       "    </tr>\n",
       "    <tr>\n",
       "      <th>SeniorCitizen</th>\n",
       "      <td>0.0</td>\n",
       "      <td>0.0</td>\n",
       "      <td>0.0</td>\n",
       "    </tr>\n",
       "    <tr>\n",
       "      <th>Partner</th>\n",
       "      <td>0.0</td>\n",
       "      <td>0.0</td>\n",
       "      <td>0.0</td>\n",
       "    </tr>\n",
       "    <tr>\n",
       "      <th>Dependents</th>\n",
       "      <td>0.0</td>\n",
       "      <td>0.0</td>\n",
       "      <td>0.0</td>\n",
       "    </tr>\n",
       "    <tr>\n",
       "      <th>tenure</th>\n",
       "      <td>0.0</td>\n",
       "      <td>0.0</td>\n",
       "      <td>0.0</td>\n",
       "    </tr>\n",
       "    <tr>\n",
       "      <th>PhoneService</th>\n",
       "      <td>0.0</td>\n",
       "      <td>0.0</td>\n",
       "      <td>0.0</td>\n",
       "    </tr>\n",
       "    <tr>\n",
       "      <th>MultipleLines</th>\n",
       "      <td>0.0</td>\n",
       "      <td>0.0</td>\n",
       "      <td>0.0</td>\n",
       "    </tr>\n",
       "    <tr>\n",
       "      <th>InternetService</th>\n",
       "      <td>0.0</td>\n",
       "      <td>0.0</td>\n",
       "      <td>0.0</td>\n",
       "    </tr>\n",
       "    <tr>\n",
       "      <th>OnlineSecurity</th>\n",
       "      <td>0.0</td>\n",
       "      <td>0.0</td>\n",
       "      <td>0.0</td>\n",
       "    </tr>\n",
       "    <tr>\n",
       "      <th>OnlineBackup</th>\n",
       "      <td>0.0</td>\n",
       "      <td>0.0</td>\n",
       "      <td>0.0</td>\n",
       "    </tr>\n",
       "    <tr>\n",
       "      <th>DeviceProtection</th>\n",
       "      <td>0.0</td>\n",
       "      <td>0.0</td>\n",
       "      <td>0.0</td>\n",
       "    </tr>\n",
       "    <tr>\n",
       "      <th>TechSupport</th>\n",
       "      <td>0.0</td>\n",
       "      <td>0.0</td>\n",
       "      <td>0.0</td>\n",
       "    </tr>\n",
       "    <tr>\n",
       "      <th>StreamingTV</th>\n",
       "      <td>0.0</td>\n",
       "      <td>0.0</td>\n",
       "      <td>0.0</td>\n",
       "    </tr>\n",
       "    <tr>\n",
       "      <th>StreamingMovies</th>\n",
       "      <td>0.0</td>\n",
       "      <td>0.0</td>\n",
       "      <td>0.0</td>\n",
       "    </tr>\n",
       "    <tr>\n",
       "      <th>Contract</th>\n",
       "      <td>0.0</td>\n",
       "      <td>0.0</td>\n",
       "      <td>0.0</td>\n",
       "    </tr>\n",
       "    <tr>\n",
       "      <th>PaperlessBilling</th>\n",
       "      <td>0.0</td>\n",
       "      <td>0.0</td>\n",
       "      <td>0.0</td>\n",
       "    </tr>\n",
       "    <tr>\n",
       "      <th>PaymentMethod</th>\n",
       "      <td>0.0</td>\n",
       "      <td>0.0</td>\n",
       "      <td>0.0</td>\n",
       "    </tr>\n",
       "    <tr>\n",
       "      <th>MonthlyCharges</th>\n",
       "      <td>0.0</td>\n",
       "      <td>0.0</td>\n",
       "      <td>0.0</td>\n",
       "    </tr>\n",
       "    <tr>\n",
       "      <th>TotalCharges</th>\n",
       "      <td>0.0</td>\n",
       "      <td>0.0</td>\n",
       "      <td>0.0</td>\n",
       "    </tr>\n",
       "    <tr>\n",
       "      <th>Churn</th>\n",
       "      <td>0.0</td>\n",
       "      <td>0.0</td>\n",
       "      <td>0.0</td>\n",
       "    </tr>\n",
       "  </tbody>\n",
       "</table>\n",
       "</div>"
      ],
      "text/plain": [
       "StreamingTV        No  No internet service  Yes\n",
       "customerID        0.0                  0.0  0.0\n",
       "gender            0.0                  0.0  0.0\n",
       "SeniorCitizen     0.0                  0.0  0.0\n",
       "Partner           0.0                  0.0  0.0\n",
       "Dependents        0.0                  0.0  0.0\n",
       "tenure            0.0                  0.0  0.0\n",
       "PhoneService      0.0                  0.0  0.0\n",
       "MultipleLines     0.0                  0.0  0.0\n",
       "InternetService   0.0                  0.0  0.0\n",
       "OnlineSecurity    0.0                  0.0  0.0\n",
       "OnlineBackup      0.0                  0.0  0.0\n",
       "DeviceProtection  0.0                  0.0  0.0\n",
       "TechSupport       0.0                  0.0  0.0\n",
       "StreamingTV       0.0                  0.0  0.0\n",
       "StreamingMovies   0.0                  0.0  0.0\n",
       "Contract          0.0                  0.0  0.0\n",
       "PaperlessBilling  0.0                  0.0  0.0\n",
       "PaymentMethod     0.0                  0.0  0.0\n",
       "MonthlyCharges    0.0                  0.0  0.0\n",
       "TotalCharges      0.0                  0.0  0.0\n",
       "Churn             0.0                  0.0  0.0"
      ]
     },
     "execution_count": 5,
     "metadata": {},
     "output_type": "execute_result"
    }
   ],
   "source": [
    "ut.missing_values_by_pivot(df, 'StreamingTV', return_type='percentage', percentage_base= 'total')"
   ]
  },
  {
   "cell_type": "markdown",
   "metadata": {},
   "source": [
    "## Feature - Target Relevance Analysis"
   ]
  },
  {
   "cell_type": "markdown",
   "metadata": {},
   "source": [
    "### Numerical Features Relevance"
   ]
  },
  {
   "cell_type": "markdown",
   "metadata": {},
   "source": [
    "#### Feature - Target Correlations"
   ]
  },
  {
   "cell_type": "code",
   "execution_count": 6,
   "metadata": {},
   "outputs": [
    {
     "name": "stdout",
     "output_type": "stream",
     "text": [
      "['No' 'Yes']\n"
     ]
    }
   ],
   "source": [
    "# peak at unique target values\n",
    "print(df['Churn'].unique())"
   ]
  },
  {
   "cell_type": "code",
   "execution_count": 7,
   "metadata": {},
   "outputs": [
    {
     "name": "stdout",
     "output_type": "stream",
     "text": [
      "Target Correlations:\n"
     ]
    },
    {
     "data": {
      "text/html": [
       "<div>\n",
       "<style scoped>\n",
       "    .dataframe tbody tr th:only-of-type {\n",
       "        vertical-align: middle;\n",
       "    }\n",
       "\n",
       "    .dataframe tbody tr th {\n",
       "        vertical-align: top;\n",
       "    }\n",
       "\n",
       "    .dataframe thead th {\n",
       "        text-align: right;\n",
       "    }\n",
       "</style>\n",
       "<table border=\"1\" class=\"dataframe\">\n",
       "  <thead>\n",
       "    <tr style=\"text-align: right;\">\n",
       "      <th></th>\n",
       "      <th>Correlation</th>\n",
       "    </tr>\n",
       "  </thead>\n",
       "  <tbody>\n",
       "    <tr>\n",
       "      <th>target_encoded</th>\n",
       "      <td>1.000000</td>\n",
       "    </tr>\n",
       "    <tr>\n",
       "      <th>MonthlyCharges</th>\n",
       "      <td>0.193356</td>\n",
       "    </tr>\n",
       "    <tr>\n",
       "      <th>SeniorCitizen</th>\n",
       "      <td>0.150889</td>\n",
       "    </tr>\n",
       "    <tr>\n",
       "      <th>tenure</th>\n",
       "      <td>-0.352229</td>\n",
       "    </tr>\n",
       "  </tbody>\n",
       "</table>\n",
       "</div>"
      ],
      "text/plain": [
       "                Correlation\n",
       "target_encoded     1.000000\n",
       "MonthlyCharges     0.193356\n",
       "SeniorCitizen      0.150889\n",
       "tenure            -0.352229"
      ]
     },
     "execution_count": 7,
     "metadata": {},
     "output_type": "execute_result"
    }
   ],
   "source": [
    "# encoding of target\n",
    "df['target_encoded'] = df['Churn'].map({'Yes': 1, 'No': 0})\n",
    "\n",
    "# target - numeric correlations\n",
    "correlations = df.select_dtypes(include = ['float64', 'int64']).corrwith(df['target_encoded'])\n",
    "correlations = correlations.sort_values(ascending = False)\n",
    "\n",
    "# show\n",
    "print('Target Correlations:')\n",
    "correlations_table = pd.DataFrame(correlations, columns = ['Correlation'])\n",
    "correlations_table"
   ]
  },
  {
   "cell_type": "markdown",
   "metadata": {},
   "source": [
    "#### Feature - Target Correlation Visualization"
   ]
  },
  {
   "cell_type": "code",
   "execution_count": 8,
   "metadata": {},
   "outputs": [
    {
     "data": {
      "image/png": "[encoded data removed]",
      "text/plain": [
       "<Figure size 500x300 with 1 Axes>"
      ]
     },
     "metadata": {},
     "output_type": "display_data"
    }
   ],
   "source": [
    "plt.figure(figsize = (5, 3))\n",
    "sns.barplot(x = correlations.index, y = correlations.values)\n",
    "plt.xticks(rotation = 45)\n",
    "plt.show()"
   ]
  },
  {
   "cell_type": "markdown",
   "metadata": {},
   "source": [
    "#### ANOVA Revelance Analysis"
   ]
  },
  {
   "cell_type": "markdown",
   "metadata": {},
   "source": [
    "Numerical Features with p-value below 0.05 are more significant. This is modeled through a F-Statistic that measures the difference between groups in the target variable, relative to the inner dispersion"
   ]
  },
  {
   "cell_type": "code",
   "execution_count": 9,
   "metadata": {},
   "outputs": [
    {
     "data": {
      "text/html": [
       "<div>\n",
       "<style scoped>\n",
       "    .dataframe tbody tr th:only-of-type {\n",
       "        vertical-align: middle;\n",
       "    }\n",
       "\n",
       "    .dataframe tbody tr th {\n",
       "        vertical-align: top;\n",
       "    }\n",
       "\n",
       "    .dataframe thead th {\n",
       "        text-align: right;\n",
       "    }\n",
       "</style>\n",
       "<table border=\"1\" class=\"dataframe\">\n",
       "  <thead>\n",
       "    <tr style=\"text-align: right;\">\n",
       "      <th></th>\n",
       "      <th>Feature</th>\n",
       "      <th>F-Statistic</th>\n",
       "      <th>P-Value</th>\n",
       "    </tr>\n",
       "  </thead>\n",
       "  <tbody>\n",
       "    <tr>\n",
       "      <th>0</th>\n",
       "      <td>SeniorCitizen</td>\n",
       "      <td>164.041424</td>\n",
       "      <td>3.839860e-37</td>\n",
       "    </tr>\n",
       "    <tr>\n",
       "      <th>2</th>\n",
       "      <td>MonthlyCharges</td>\n",
       "      <td>273.463704</td>\n",
       "      <td>2.706646e-60</td>\n",
       "    </tr>\n",
       "    <tr>\n",
       "      <th>1</th>\n",
       "      <td>tenure</td>\n",
       "      <td>997.268010</td>\n",
       "      <td>7.999058e-205</td>\n",
       "    </tr>\n",
       "  </tbody>\n",
       "</table>\n",
       "</div>"
      ],
      "text/plain": [
       "          Feature  F-Statistic        P-Value\n",
       "0   SeniorCitizen   164.041424   3.839860e-37\n",
       "2  MonthlyCharges   273.463704   2.706646e-60\n",
       "1          tenure   997.268010  7.999058e-205"
      ]
     },
     "execution_count": 9,
     "metadata": {},
     "output_type": "execute_result"
    }
   ],
   "source": [
    "numerical_cols = df.select_dtypes(include = ['int64', 'float64']).drop(columns = ['target_encoded'], errors = 'ignore').columns\n",
    "\n",
    "anova_results = []\n",
    "\n",
    "for col in numerical_cols:\n",
    "    # create groups based on target categories\n",
    "    groups = [df[df['target_encoded'] == category][col] for category in df['target_encoded'].unique()]\n",
    "    \n",
    "    # calculate F-statistic and p-value\n",
    "    f_stat, p_value = f_oneway(*groups)\n",
    "    \n",
    "    # save results in a dictionary\n",
    "    anova_results.append({'Feature': col, 'F-Statistic': f_stat, 'P-Value': p_value})\n",
    "\n",
    "# convert results to DataFrame\n",
    "anova_table = pd.DataFrame(anova_results)\n",
    "\n",
    "# formatting\n",
    "anova_table = anova_table.sort_values(by = 'P-Value', ascending = False)\n",
    "\n",
    "anova_table.style.format({\n",
    "    'F-Statistic': '{:.2f}',\n",
    "    'P-Value': '{:.3f}'\n",
    "})\n",
    "\n",
    "anova_table\n",
    "    "
   ]
  },
  {
   "cell_type": "markdown",
   "metadata": {},
   "source": [
    "### Categorical Features Relevance"
   ]
  },
  {
   "cell_type": "markdown",
   "metadata": {},
   "source": [
    "#### Categorical Features Selection"
   ]
  },
  {
   "cell_type": "code",
   "execution_count": 10,
   "metadata": {},
   "outputs": [],
   "source": [
    "cat_columns = list(set(df.columns) - set(numerical_cols))\n",
    "cat_columns.remove('TotalCharges')\n",
    "cat_columns.remove('Churn')\n",
    "cat_columns.remove('target_encoded')"
   ]
  },
  {
   "cell_type": "markdown",
   "metadata": {},
   "source": [
    "#### Chi - Squared Test"
   ]
  },
  {
   "cell_type": "code",
   "execution_count": 11,
   "metadata": {},
   "outputs": [
    {
     "data": {
      "text/html": [
       "<div>\n",
       "<style scoped>\n",
       "    .dataframe tbody tr th:only-of-type {\n",
       "        vertical-align: middle;\n",
       "    }\n",
       "\n",
       "    .dataframe tbody tr th {\n",
       "        vertical-align: top;\n",
       "    }\n",
       "\n",
       "    .dataframe thead th {\n",
       "        text-align: right;\n",
       "    }\n",
       "</style>\n",
       "<table border=\"1\" class=\"dataframe\">\n",
       "  <thead>\n",
       "    <tr style=\"text-align: right;\">\n",
       "      <th></th>\n",
       "      <th>Feature</th>\n",
       "      <th>Chi2</th>\n",
       "      <th>P-Value</th>\n",
       "    </tr>\n",
       "  </thead>\n",
       "  <tbody>\n",
       "    <tr>\n",
       "      <th>11</th>\n",
       "      <td>customerID</td>\n",
       "      <td>7043.000000</td>\n",
       "      <td>4.943977e-01</td>\n",
       "    </tr>\n",
       "    <tr>\n",
       "      <th>6</th>\n",
       "      <td>Contract</td>\n",
       "      <td>1184.596572</td>\n",
       "      <td>5.863038e-258</td>\n",
       "    </tr>\n",
       "    <tr>\n",
       "      <th>1</th>\n",
       "      <td>OnlineSecurity</td>\n",
       "      <td>849.998968</td>\n",
       "      <td>2.661150e-185</td>\n",
       "    </tr>\n",
       "    <tr>\n",
       "      <th>8</th>\n",
       "      <td>TechSupport</td>\n",
       "      <td>828.197068</td>\n",
       "      <td>1.443084e-180</td>\n",
       "    </tr>\n",
       "    <tr>\n",
       "      <th>14</th>\n",
       "      <td>InternetService</td>\n",
       "      <td>732.309590</td>\n",
       "      <td>9.571788e-160</td>\n",
       "    </tr>\n",
       "    <tr>\n",
       "      <th>15</th>\n",
       "      <td>PaymentMethod</td>\n",
       "      <td>648.142327</td>\n",
       "      <td>3.682355e-140</td>\n",
       "    </tr>\n",
       "    <tr>\n",
       "      <th>3</th>\n",
       "      <td>OnlineBackup</td>\n",
       "      <td>601.812790</td>\n",
       "      <td>2.079759e-131</td>\n",
       "    </tr>\n",
       "    <tr>\n",
       "      <th>9</th>\n",
       "      <td>DeviceProtection</td>\n",
       "      <td>558.419369</td>\n",
       "      <td>5.505219e-122</td>\n",
       "    </tr>\n",
       "    <tr>\n",
       "      <th>0</th>\n",
       "      <td>StreamingMovies</td>\n",
       "      <td>375.661479</td>\n",
       "      <td>2.667757e-82</td>\n",
       "    </tr>\n",
       "    <tr>\n",
       "      <th>7</th>\n",
       "      <td>StreamingTV</td>\n",
       "      <td>374.203943</td>\n",
       "      <td>5.528994e-82</td>\n",
       "    </tr>\n",
       "    <tr>\n",
       "      <th>10</th>\n",
       "      <td>PaperlessBilling</td>\n",
       "      <td>258.277649</td>\n",
       "      <td>4.073355e-58</td>\n",
       "    </tr>\n",
       "    <tr>\n",
       "      <th>13</th>\n",
       "      <td>Dependents</td>\n",
       "      <td>189.129249</td>\n",
       "      <td>4.924922e-43</td>\n",
       "    </tr>\n",
       "    <tr>\n",
       "      <th>2</th>\n",
       "      <td>Partner</td>\n",
       "      <td>158.733382</td>\n",
       "      <td>2.139911e-36</td>\n",
       "    </tr>\n",
       "    <tr>\n",
       "      <th>4</th>\n",
       "      <td>MultipleLines</td>\n",
       "      <td>11.330441</td>\n",
       "      <td>3.464383e-03</td>\n",
       "    </tr>\n",
       "    <tr>\n",
       "      <th>12</th>\n",
       "      <td>PhoneService</td>\n",
       "      <td>0.915033</td>\n",
       "      <td>3.387825e-01</td>\n",
       "    </tr>\n",
       "    <tr>\n",
       "      <th>5</th>\n",
       "      <td>gender</td>\n",
       "      <td>0.484083</td>\n",
       "      <td>4.865787e-01</td>\n",
       "    </tr>\n",
       "  </tbody>\n",
       "</table>\n",
       "</div>"
      ],
      "text/plain": [
       "             Feature         Chi2        P-Value\n",
       "11        customerID  7043.000000   4.943977e-01\n",
       "6           Contract  1184.596572  5.863038e-258\n",
       "1     OnlineSecurity   849.998968  2.661150e-185\n",
       "8        TechSupport   828.197068  1.443084e-180\n",
       "14   InternetService   732.309590  9.571788e-160\n",
       "15     PaymentMethod   648.142327  3.682355e-140\n",
       "3       OnlineBackup   601.812790  2.079759e-131\n",
       "9   DeviceProtection   558.419369  5.505219e-122\n",
       "0    StreamingMovies   375.661479   2.667757e-82\n",
       "7        StreamingTV   374.203943   5.528994e-82\n",
       "10  PaperlessBilling   258.277649   4.073355e-58\n",
       "13        Dependents   189.129249   4.924922e-43\n",
       "2            Partner   158.733382   2.139911e-36\n",
       "4      MultipleLines    11.330441   3.464383e-03\n",
       "12      PhoneService     0.915033   3.387825e-01\n",
       "5             gender     0.484083   4.865787e-01"
      ]
     },
     "execution_count": 11,
     "metadata": {},
     "output_type": "execute_result"
    }
   ],
   "source": [
    "chi2_results = []\n",
    "\n",
    "for col in cat_columns:\n",
    "    # contigency table\n",
    "    contingency_table = pd.crosstab(df[col], df['Churn'])\n",
    "    \n",
    "    # chi-squared\n",
    "    chi2, p, dof, _ = chi2_contingency(contingency_table)\n",
    "    \n",
    "    # append results\n",
    "    chi2_results.append({'Feature': col, 'Chi2': chi2, 'P-Value': p})\n",
    "    \n",
    "# formatting\n",
    "chi2_df = pd.DataFrame(chi2_results).sort_values(by = 'Chi2', ascending = False)\n",
    "\n",
    "chi2_df.style.format({\n",
    "    'Chi2': '{:.2f}',\n",
    "    'P-Value': '{:.3f}'\n",
    "})\n",
    "\n",
    "chi2_df"
   ]
  },
  {
   "cell_type": "markdown",
   "metadata": {},
   "source": [
    "### Feature Ranking"
   ]
  },
  {
   "cell_type": "markdown",
   "metadata": {},
   "source": [
    "##### Preliminary Preprocessing"
   ]
  },
  {
   "cell_type": "code",
   "execution_count": 14,
   "metadata": {},
   "outputs": [
    {
     "data": {
      "text/html": [
       "<div>\n",
       "<style scoped>\n",
       "    .dataframe tbody tr th:only-of-type {\n",
       "        vertical-align: middle;\n",
       "    }\n",
       "\n",
       "    .dataframe tbody tr th {\n",
       "        vertical-align: top;\n",
       "    }\n",
       "\n",
       "    .dataframe thead th {\n",
       "        text-align: right;\n",
       "    }\n",
       "</style>\n",
       "<table border=\"1\" class=\"dataframe\">\n",
       "  <thead>\n",
       "    <tr style=\"text-align: right;\">\n",
       "      <th></th>\n",
       "      <th>customerID</th>\n",
       "      <th>gender</th>\n",
       "      <th>SeniorCitizen</th>\n",
       "      <th>Partner</th>\n",
       "      <th>Dependents</th>\n",
       "      <th>tenure</th>\n",
       "      <th>PhoneService</th>\n",
       "      <th>MultipleLines</th>\n",
       "      <th>InternetService</th>\n",
       "      <th>OnlineSecurity</th>\n",
       "      <th>OnlineBackup</th>\n",
       "      <th>DeviceProtection</th>\n",
       "      <th>TechSupport</th>\n",
       "      <th>StreamingTV</th>\n",
       "      <th>StreamingMovies</th>\n",
       "      <th>Contract</th>\n",
       "      <th>PaperlessBilling</th>\n",
       "      <th>PaymentMethod</th>\n",
       "      <th>MonthlyCharges</th>\n",
       "      <th>TotalCharges</th>\n",
       "      <th>Churn</th>\n",
       "      <th>target_encoded</th>\n",
       "    </tr>\n",
       "  </thead>\n",
       "  <tbody>\n",
       "    <tr>\n",
       "      <th>0</th>\n",
       "      <td>5375</td>\n",
       "      <td>0</td>\n",
       "      <td>0</td>\n",
       "      <td>1</td>\n",
       "      <td>0</td>\n",
       "      <td>1</td>\n",
       "      <td>0</td>\n",
       "      <td>1</td>\n",
       "      <td>0</td>\n",
       "      <td>0</td>\n",
       "      <td>2</td>\n",
       "      <td>0</td>\n",
       "      <td>0</td>\n",
       "      <td>0</td>\n",
       "      <td>0</td>\n",
       "      <td>0</td>\n",
       "      <td>1</td>\n",
       "      <td>2</td>\n",
       "      <td>29.85</td>\n",
       "      <td>29.85</td>\n",
       "      <td>No</td>\n",
       "      <td>0</td>\n",
       "    </tr>\n",
       "    <tr>\n",
       "      <th>1</th>\n",
       "      <td>3962</td>\n",
       "      <td>1</td>\n",
       "      <td>0</td>\n",
       "      <td>0</td>\n",
       "      <td>0</td>\n",
       "      <td>34</td>\n",
       "      <td>1</td>\n",
       "      <td>0</td>\n",
       "      <td>0</td>\n",
       "      <td>2</td>\n",
       "      <td>0</td>\n",
       "      <td>2</td>\n",
       "      <td>0</td>\n",
       "      <td>0</td>\n",
       "      <td>0</td>\n",
       "      <td>1</td>\n",
       "      <td>0</td>\n",
       "      <td>3</td>\n",
       "      <td>56.95</td>\n",
       "      <td>1889.50</td>\n",
       "      <td>No</td>\n",
       "      <td>0</td>\n",
       "    </tr>\n",
       "    <tr>\n",
       "      <th>2</th>\n",
       "      <td>2564</td>\n",
       "      <td>1</td>\n",
       "      <td>0</td>\n",
       "      <td>0</td>\n",
       "      <td>0</td>\n",
       "      <td>2</td>\n",
       "      <td>1</td>\n",
       "      <td>0</td>\n",
       "      <td>0</td>\n",
       "      <td>2</td>\n",
       "      <td>2</td>\n",
       "      <td>0</td>\n",
       "      <td>0</td>\n",
       "      <td>0</td>\n",
       "      <td>0</td>\n",
       "      <td>0</td>\n",
       "      <td>1</td>\n",
       "      <td>3</td>\n",
       "      <td>53.85</td>\n",
       "      <td>108.15</td>\n",
       "      <td>Yes</td>\n",
       "      <td>1</td>\n",
       "    </tr>\n",
       "    <tr>\n",
       "      <th>3</th>\n",
       "      <td>5535</td>\n",
       "      <td>1</td>\n",
       "      <td>0</td>\n",
       "      <td>0</td>\n",
       "      <td>0</td>\n",
       "      <td>45</td>\n",
       "      <td>0</td>\n",
       "      <td>1</td>\n",
       "      <td>0</td>\n",
       "      <td>2</td>\n",
       "      <td>0</td>\n",
       "      <td>2</td>\n",
       "      <td>2</td>\n",
       "      <td>0</td>\n",
       "      <td>0</td>\n",
       "      <td>1</td>\n",
       "      <td>0</td>\n",
       "      <td>0</td>\n",
       "      <td>42.30</td>\n",
       "      <td>1840.75</td>\n",
       "      <td>No</td>\n",
       "      <td>0</td>\n",
       "    </tr>\n",
       "    <tr>\n",
       "      <th>4</th>\n",
       "      <td>6511</td>\n",
       "      <td>0</td>\n",
       "      <td>0</td>\n",
       "      <td>0</td>\n",
       "      <td>0</td>\n",
       "      <td>2</td>\n",
       "      <td>1</td>\n",
       "      <td>0</td>\n",
       "      <td>1</td>\n",
       "      <td>0</td>\n",
       "      <td>0</td>\n",
       "      <td>0</td>\n",
       "      <td>0</td>\n",
       "      <td>0</td>\n",
       "      <td>0</td>\n",
       "      <td>0</td>\n",
       "      <td>1</td>\n",
       "      <td>2</td>\n",
       "      <td>70.70</td>\n",
       "      <td>151.65</td>\n",
       "      <td>Yes</td>\n",
       "      <td>1</td>\n",
       "    </tr>\n",
       "  </tbody>\n",
       "</table>\n",
       "</div>"
      ],
      "text/plain": [
       "   customerID  gender  SeniorCitizen  Partner  Dependents  tenure  \\\n",
       "0        5375       0              0        1           0       1   \n",
       "1        3962       1              0        0           0      34   \n",
       "2        2564       1              0        0           0       2   \n",
       "3        5535       1              0        0           0      45   \n",
       "4        6511       0              0        0           0       2   \n",
       "\n",
       "   PhoneService  MultipleLines  InternetService  OnlineSecurity  OnlineBackup  \\\n",
       "0             0              1                0               0             2   \n",
       "1             1              0                0               2             0   \n",
       "2             1              0                0               2             2   \n",
       "3             0              1                0               2             0   \n",
       "4             1              0                1               0             0   \n",
       "\n",
       "   DeviceProtection  TechSupport  StreamingTV  StreamingMovies  Contract  \\\n",
       "0                 0            0            0                0         0   \n",
       "1                 2            0            0                0         1   \n",
       "2                 0            0            0                0         0   \n",
       "3                 2            2            0                0         1   \n",
       "4                 0            0            0                0         0   \n",
       "\n",
       "   PaperlessBilling  PaymentMethod  MonthlyCharges  TotalCharges Churn  \\\n",
       "0                 1              2           29.85         29.85    No   \n",
       "1                 0              3           56.95       1889.50    No   \n",
       "2                 1              3           53.85        108.15   Yes   \n",
       "3                 0              0           42.30       1840.75    No   \n",
       "4                 1              2           70.70        151.65   Yes   \n",
       "\n",
       "   target_encoded  \n",
       "0               0  \n",
       "1               0  \n",
       "2               1  \n",
       "3               0  \n",
       "4               1  "
      ]
     },
     "execution_count": 14,
     "metadata": {},
     "output_type": "execute_result"
    }
   ],
   "source": [
    "df_encoded = df.copy()\n",
    "\n",
    "for col in cat_columns:\n",
    "    encoder = LabelEncoder()\n",
    "    df_encoded[col] = encoder.fit_transform(df_encoded[col])\n",
    "    \n",
    "df['TotalCharges'] = pd.to_numeric(df['TotalCharges'], errors = 'coerce')\n",
    "df['TotalCharges'].fillna(df['TotalCharges'].median(), inplace = True)\n",
    "\n",
    "df_encoded.head()"
   ]
  },
  {
   "cell_type": "markdown",
   "metadata": {},
   "source": [
    "##### Target - Feature Split"
   ]
  },
  {
   "cell_type": "code",
   "execution_count": 15,
   "metadata": {},
   "outputs": [],
   "source": [
    "X = df_encoded.drop(['Churn', 'target_encoded'], axis = 1)\n",
    "y = df_encoded['target_encoded']"
   ]
  },
  {
   "cell_type": "code",
   "execution_count": 16,
   "metadata": {},
   "outputs": [
    {
     "data": {
      "text/plain": [
       "customerID            int32\n",
       "gender                int32\n",
       "SeniorCitizen         int64\n",
       "Partner               int32\n",
       "Dependents            int32\n",
       "tenure                int64\n",
       "PhoneService          int32\n",
       "MultipleLines         int32\n",
       "InternetService       int32\n",
       "OnlineSecurity        int32\n",
       "OnlineBackup          int32\n",
       "DeviceProtection      int32\n",
       "TechSupport           int32\n",
       "StreamingTV           int32\n",
       "StreamingMovies       int32\n",
       "Contract              int32\n",
       "PaperlessBilling      int32\n",
       "PaymentMethod         int32\n",
       "MonthlyCharges      float64\n",
       "TotalCharges        float64\n",
       "dtype: object"
      ]
     },
     "execution_count": 16,
     "metadata": {},
     "output_type": "execute_result"
    }
   ],
   "source": [
    "X.dtypes"
   ]
  },
  {
   "cell_type": "markdown",
   "metadata": {},
   "source": [
    "##### Simple Random Forest Fit"
   ]
  },
  {
   "cell_type": "code",
   "execution_count": 18,
   "metadata": {},
   "outputs": [],
   "source": [
    "model = RandomForestClassifier(random_state = 123, n_estimators = 100)\n",
    "model.fit(X, y)\n",
    "\n",
    "feature_importance = pd.Series(model.feature_importances_, index = X.columns).sort_values(ascending = False)"
   ]
  },
  {
   "cell_type": "markdown",
   "metadata": {},
   "source": [
    "##### Ranking Table"
   ]
  },
  {
   "cell_type": "code",
   "execution_count": 19,
   "metadata": {},
   "outputs": [
    {
     "data": {
      "text/html": [
       "<div>\n",
       "<style scoped>\n",
       "    .dataframe tbody tr th:only-of-type {\n",
       "        vertical-align: middle;\n",
       "    }\n",
       "\n",
       "    .dataframe tbody tr th {\n",
       "        vertical-align: top;\n",
       "    }\n",
       "\n",
       "    .dataframe thead th {\n",
       "        text-align: right;\n",
       "    }\n",
       "</style>\n",
       "<table border=\"1\" class=\"dataframe\">\n",
       "  <thead>\n",
       "    <tr style=\"text-align: right;\">\n",
       "      <th></th>\n",
       "      <th>Feature</th>\n",
       "      <th>Importance</th>\n",
       "    </tr>\n",
       "  </thead>\n",
       "  <tbody>\n",
       "    <tr>\n",
       "      <th>0</th>\n",
       "      <td>TotalCharges</td>\n",
       "      <td>0.154249</td>\n",
       "    </tr>\n",
       "    <tr>\n",
       "      <th>1</th>\n",
       "      <td>MonthlyCharges</td>\n",
       "      <td>0.146836</td>\n",
       "    </tr>\n",
       "    <tr>\n",
       "      <th>2</th>\n",
       "      <td>tenure</td>\n",
       "      <td>0.134429</td>\n",
       "    </tr>\n",
       "    <tr>\n",
       "      <th>3</th>\n",
       "      <td>customerID</td>\n",
       "      <td>0.130083</td>\n",
       "    </tr>\n",
       "    <tr>\n",
       "      <th>4</th>\n",
       "      <td>Contract</td>\n",
       "      <td>0.084434</td>\n",
       "    </tr>\n",
       "    <tr>\n",
       "      <th>5</th>\n",
       "      <td>OnlineSecurity</td>\n",
       "      <td>0.043658</td>\n",
       "    </tr>\n",
       "    <tr>\n",
       "      <th>6</th>\n",
       "      <td>PaymentMethod</td>\n",
       "      <td>0.042187</td>\n",
       "    </tr>\n",
       "    <tr>\n",
       "      <th>7</th>\n",
       "      <td>TechSupport</td>\n",
       "      <td>0.041038</td>\n",
       "    </tr>\n",
       "    <tr>\n",
       "      <th>8</th>\n",
       "      <td>OnlineBackup</td>\n",
       "      <td>0.026785</td>\n",
       "    </tr>\n",
       "    <tr>\n",
       "      <th>9</th>\n",
       "      <td>InternetService</td>\n",
       "      <td>0.025153</td>\n",
       "    </tr>\n",
       "    <tr>\n",
       "      <th>10</th>\n",
       "      <td>gender</td>\n",
       "      <td>0.023606</td>\n",
       "    </tr>\n",
       "    <tr>\n",
       "      <th>11</th>\n",
       "      <td>PaperlessBilling</td>\n",
       "      <td>0.021909</td>\n",
       "    </tr>\n",
       "    <tr>\n",
       "      <th>12</th>\n",
       "      <td>MultipleLines</td>\n",
       "      <td>0.019006</td>\n",
       "    </tr>\n",
       "    <tr>\n",
       "      <th>13</th>\n",
       "      <td>Partner</td>\n",
       "      <td>0.018894</td>\n",
       "    </tr>\n",
       "    <tr>\n",
       "      <th>14</th>\n",
       "      <td>DeviceProtection</td>\n",
       "      <td>0.018632</td>\n",
       "    </tr>\n",
       "    <tr>\n",
       "      <th>15</th>\n",
       "      <td>SeniorCitizen</td>\n",
       "      <td>0.017670</td>\n",
       "    </tr>\n",
       "    <tr>\n",
       "      <th>16</th>\n",
       "      <td>Dependents</td>\n",
       "      <td>0.016717</td>\n",
       "    </tr>\n",
       "    <tr>\n",
       "      <th>17</th>\n",
       "      <td>StreamingTV</td>\n",
       "      <td>0.015131</td>\n",
       "    </tr>\n",
       "    <tr>\n",
       "      <th>18</th>\n",
       "      <td>StreamingMovies</td>\n",
       "      <td>0.014994</td>\n",
       "    </tr>\n",
       "    <tr>\n",
       "      <th>19</th>\n",
       "      <td>PhoneService</td>\n",
       "      <td>0.004589</td>\n",
       "    </tr>\n",
       "  </tbody>\n",
       "</table>\n",
       "</div>"
      ],
      "text/plain": [
       "             Feature  Importance\n",
       "0       TotalCharges    0.154249\n",
       "1     MonthlyCharges    0.146836\n",
       "2             tenure    0.134429\n",
       "3         customerID    0.130083\n",
       "4           Contract    0.084434\n",
       "5     OnlineSecurity    0.043658\n",
       "6      PaymentMethod    0.042187\n",
       "7        TechSupport    0.041038\n",
       "8       OnlineBackup    0.026785\n",
       "9    InternetService    0.025153\n",
       "10            gender    0.023606\n",
       "11  PaperlessBilling    0.021909\n",
       "12     MultipleLines    0.019006\n",
       "13           Partner    0.018894\n",
       "14  DeviceProtection    0.018632\n",
       "15     SeniorCitizen    0.017670\n",
       "16        Dependents    0.016717\n",
       "17       StreamingTV    0.015131\n",
       "18   StreamingMovies    0.014994\n",
       "19      PhoneService    0.004589"
      ]
     },
     "execution_count": 19,
     "metadata": {},
     "output_type": "execute_result"
    }
   ],
   "source": [
    "importance_df = pd.DataFrame({\n",
    "    'Feature': feature_importance.index,\n",
    "    'Importance': feature_importance.values\n",
    "}).sort_values(by = 'Importance', ascending = False)\n",
    "\n",
    "importance_df"
   ]
  },
  {
   "cell_type": "markdown",
   "metadata": {},
   "source": [
    "##### Ranking Visualization"
   ]
  },
  {
   "cell_type": "code",
   "execution_count": 21,
   "metadata": {},
   "outputs": [
    {
     "data": {
      "image/png": "[encoded data removed]",
      "text/plain": [
       "<Figure size 1000x600 with 1 Axes>"
      ]
     },
     "metadata": {},
     "output_type": "display_data"
    }
   ],
   "source": [
    "plt.figure(figsize = (10, 6))\n",
    "\n",
    "sns.barplot(\n",
    "    x = 'Importance', \n",
    "    y = 'Feature', \n",
    "    data = importance_df, \n",
    "    palette = 'viridis',\n",
    "    hue = 'Feature',\n",
    "    dodge = False)\n",
    "plt.show()"
   ]
  },
  {
   "cell_type": "markdown",
   "metadata": {},
   "source": [
    "## Numerical Feature Analysis"
   ]
  },
  {
   "cell_type": "markdown",
   "metadata": {},
   "source": [
    "### Statistical Summary"
   ]
  },
  {
   "cell_type": "code",
   "execution_count": null,
   "metadata": {},
   "outputs": [],
   "source": [
    "# statistical summary\n",
    "df.describe().applymap(lambda x: ut.format_cell(x)).style.applymap(ut.center_align)"
   ]
  },
  {
   "cell_type": "markdown",
   "metadata": {},
   "source": [
    "### Histograms"
   ]
  },
  {
   "cell_type": "code",
   "execution_count": null,
   "metadata": {},
   "outputs": [],
   "source": [
    "# create histogram and density curves\n",
    "\n",
    "for col in numerical_cols:\n",
    "    sns.histplot(df[col], kde = True, bins = 35)\n",
    "    plt.title(f'{col} distribution')\n",
    "    plt.xlabel(col)\n",
    "    plt.ylabel('Frecuencia')\n",
    "    plt.show()"
   ]
  },
  {
   "cell_type": "markdown",
   "metadata": {},
   "source": [
    "### Box Plots"
   ]
  },
  {
   "cell_type": "code",
   "execution_count": null,
   "metadata": {},
   "outputs": [],
   "source": [
    "for col in numerical_cols:\n",
    "    sns.boxplot(y = df[col])\n",
    "    plt.title(f'{col} distribution')\n",
    "    plt.ylabel({col})\n",
    "    plt.show()"
   ]
  },
  {
   "cell_type": "markdown",
   "metadata": {},
   "source": [
    "### Pair Plots"
   ]
  },
  {
   "cell_type": "code",
   "execution_count": null,
   "metadata": {},
   "outputs": [],
   "source": [
    "sns.pairplot(df[numerical_cols])\n",
    "plt.show()"
   ]
  },
  {
   "cell_type": "markdown",
   "metadata": {},
   "source": [
    "### Heatmap"
   ]
  },
  {
   "cell_type": "code",
   "execution_count": null,
   "metadata": {},
   "outputs": [],
   "source": [
    "correlation_matrix = df[numerical_cols].corr()\n",
    "plt.figure(figsize = (10, 8))\n",
    "sns.heatmap(correlation_matrix, annot = True, fmt = \".2f\", cmap = 'Blues', cbar = True)\n",
    "plt.title('Correlation Matrix')\n",
    "plt.show()"
   ]
  },
  {
   "cell_type": "markdown",
   "metadata": {},
   "source": [
    "## Categorical Feature Analysis"
   ]
  },
  {
   "cell_type": "markdown",
   "metadata": {},
   "source": [
    "### Uniqueness"
   ]
  },
  {
   "cell_type": "code",
   "execution_count": null,
   "metadata": {},
   "outputs": [],
   "source": [
    "ut.uniqueness_categorical_columns(df, max_categories = 10)"
   ]
  },
  {
   "cell_type": "markdown",
   "metadata": {},
   "source": [
    "### Count Plot"
   ]
  },
  {
   "cell_type": "code",
   "execution_count": null,
   "metadata": {},
   "outputs": [],
   "source": [
    "for col in cat_columns:\n",
    "    sns.countplot(x = col, data = df)\n",
    "    plt.title(f'{col} distribution')\n",
    "    plt.show()"
   ]
  },
  {
   "cell_type": "markdown",
   "metadata": {},
   "source": [
    "### Crosstabs"
   ]
  },
  {
   "cell_type": "code",
   "execution_count": null,
   "metadata": {},
   "outputs": [],
   "source": [
    "#cross_tabs_cols = cat_columns.remove('Churn')\n",
    "for col in cat_columns:\n",
    "    cross = pd.crosstab(df[col], df['Churn'])\n",
    "\n",
    "    sns.heatmap(cross, annot = True, fmt = 'd', cmap = 'Blues', cbar= False)\n",
    "    plt.show()"
   ]
  },
  {
   "cell_type": "code",
   "execution_count": null,
   "metadata": {},
   "outputs": [],
   "source": [
    "contract_churn = pd.crosstab([df['Contract'], df[\"PaymentMethod\"]], df['Churn'])\n",
    "\n",
    "sns.heatmap(contract_churn, annot = True, fmt = 'd', cmap = 'Blues')"
   ]
  },
  {
   "cell_type": "code",
   "execution_count": null,
   "metadata": {},
   "outputs": [],
   "source": [
    "from statsmodels.graphics.mosaicplot import mosaic\n",
    "\n",
    "# Mosaic plot entre Contract y Churn\n",
    "mosaic(df, ['Contract', 'Churn'], title=\"Contract vs Churn distribution\")\n",
    "plt.show()"
   ]
  },
  {
   "cell_type": "markdown",
   "metadata": {},
   "source": [
    "## Cross-Variable Feature Analysis"
   ]
  },
  {
   "cell_type": "markdown",
   "metadata": {},
   "source": [
    "### Swarm Plots"
   ]
  },
  {
   "cell_type": "code",
   "execution_count": null,
   "metadata": {},
   "outputs": [],
   "source": [
    "sns.stripplot(x = 'Contract', y ='MonthlyCharges', data = df, size = 3)\n",
    "plt.show()"
   ]
  },
  {
   "cell_type": "markdown",
   "metadata": {},
   "source": [
    "### Catplots"
   ]
  },
  {
   "cell_type": "code",
   "execution_count": null,
   "metadata": {},
   "outputs": [],
   "source": [
    "sns.catplot(x = 'Contract', y = 'MonthlyCharges', hue = 'Churn', col = 'InternetService', kind = 'box', data = df)\n",
    "plt.subplots_adjust(top = 0.9)\n",
    "plt.show()"
   ]
  },
  {
   "cell_type": "markdown",
   "metadata": {},
   "source": [
    "### Scatter Plot"
   ]
  },
  {
   "cell_type": "code",
   "execution_count": null,
   "metadata": {},
   "outputs": [],
   "source": [
    "sns.scatterplot(x = 'tenure', y = 'MonthlyCharges', hue = 'Contract', style = 'Churn', data = df)\n",
    "plt.show()"
   ]
  },
  {
   "cell_type": "markdown",
   "metadata": {},
   "source": [
    "### Categorical Line Plots"
   ]
  },
  {
   "cell_type": "code",
   "execution_count": null,
   "metadata": {},
   "outputs": [],
   "source": [
    "sns.lineplot(x = 'tenure', y ='MonthlyCharges', hue = 'Contract', data = df, errorbar = None)\n",
    "plt.show()"
   ]
  },
  {
   "cell_type": "markdown",
   "metadata": {},
   "source": [
    "### Stacked Histograms"
   ]
  },
  {
   "cell_type": "code",
   "execution_count": null,
   "metadata": {},
   "outputs": [],
   "source": [
    "for contract in df['Contract'].unique():\n",
    "    subset = df[df['Contract'] == contract]\n",
    "    sns.histplot(subset['MonthlyCharges'], label = contract, kde = True, alpha = 0.5)\n",
    "plt.legend()\n",
    "plt.show()"
   ]
  },
  {
   "cell_type": "markdown",
   "metadata": {},
   "source": [
    "### Interactions Heatmap"
   ]
  },
  {
   "cell_type": "code",
   "execution_count": null,
   "metadata": {},
   "outputs": [],
   "source": [
    "pivot_table = pd.pivot_table(\n",
    "    df,\n",
    "    values = 'MonthlyCharges',\n",
    "    index = 'InternetService',\n",
    "    columns = 'Contract',\n",
    "    aggfunc = 'mean'   \n",
    ")\n",
    "\n",
    "plt.figure(figsize = (5, 3))\n",
    "sns.heatmap(pivot_table, annot = True, fmt = '.2f', linewidths = 0.5)\n",
    "plt.title('Average Monthly Charge by Contract Type and Internet Service')\n",
    "plt.xlabel('Contract')\n",
    "plt.ylabel('Internet Service')\n",
    "plt.show()"
   ]
  }
 ],
 "metadata": {
  "kernelspec": {
   "display_name": "Python 3",
   "language": "python",
   "name": "python3"
  },
  "language_info": {
   "codemirror_mode": {
    "name": "ipython",
    "version": 3
   },
   "file_extension": ".py",
   "mimetype": "text/x-python",
   "name": "python",
   "nbconvert_exporter": "python",
   "pygments_lexer": "ipython3",
   "version": "3.11.1"
  }
 },
 "nbformat": 4,
 "nbformat_minor": 2
}
