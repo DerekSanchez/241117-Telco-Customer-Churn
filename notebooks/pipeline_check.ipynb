{
 "cells": [
  {
   "cell_type": "markdown",
   "metadata": {},
   "source": [
    "# Pipeline Checks"
   ]
  },
  {
   "cell_type": "markdown",
   "metadata": {},
   "source": [
    "Created to evalute each line of files .py and debug them easily in a controlled enviroment"
   ]
  },
  {
   "cell_type": "markdown",
   "metadata": {},
   "source": [
    "## preprocess.py"
   ]
  },
  {
   "cell_type": "markdown",
   "metadata": {},
   "source": [
    "### Configurations"
   ]
  },
  {
   "cell_type": "code",
   "execution_count": 13,
   "metadata": {},
   "outputs": [],
   "source": [
    "import sys\n",
    "from pathlib import Path\n",
    "\n",
    "# Ruta a la raíz del proyecto\n",
    "project_root = Path().resolve().parent\n",
    "sys.path.append(str(project_root))"
   ]
  },
  {
   "cell_type": "code",
   "execution_count": 14,
   "metadata": {},
   "outputs": [],
   "source": [
    "import pandas as pd\n",
    "import numpy as np\n",
    "import src.config as cf"
   ]
  },
  {
   "cell_type": "markdown",
   "metadata": {},
   "source": [
    "### Feature Engineering"
   ]
  },
  {
   "cell_type": "code",
   "execution_count": 15,
   "metadata": {},
   "outputs": [
    {
     "data": {
      "text/html": [
       "<div>\n",
       "<style scoped>\n",
       "    .dataframe tbody tr th:only-of-type {\n",
       "        vertical-align: middle;\n",
       "    }\n",
       "\n",
       "    .dataframe tbody tr th {\n",
       "        vertical-align: top;\n",
       "    }\n",
       "\n",
       "    .dataframe thead th {\n",
       "        text-align: right;\n",
       "    }\n",
       "</style>\n",
       "<table border=\"1\" class=\"dataframe\">\n",
       "  <thead>\n",
       "    <tr style=\"text-align: right;\">\n",
       "      <th></th>\n",
       "      <th>tenure</th>\n",
       "      <th>MonthlyCharges</th>\n",
       "      <th>TotalCharges</th>\n",
       "      <th>InternetService</th>\n",
       "      <th>MultipleLines</th>\n",
       "      <th>OnlineSecurity</th>\n",
       "    </tr>\n",
       "  </thead>\n",
       "  <tbody>\n",
       "    <tr>\n",
       "      <th>0</th>\n",
       "      <td>1</td>\n",
       "      <td>20</td>\n",
       "      <td>20</td>\n",
       "      <td>DSL</td>\n",
       "      <td>No</td>\n",
       "      <td>Yes</td>\n",
       "    </tr>\n",
       "    <tr>\n",
       "      <th>1</th>\n",
       "      <td>15</td>\n",
       "      <td>50</td>\n",
       "      <td>750</td>\n",
       "      <td>Fiber optic</td>\n",
       "      <td>Yes</td>\n",
       "      <td>No</td>\n",
       "    </tr>\n",
       "    <tr>\n",
       "      <th>2</th>\n",
       "      <td>40</td>\n",
       "      <td>100</td>\n",
       "      <td>4000</td>\n",
       "      <td>No</td>\n",
       "      <td>No phone service</td>\n",
       "      <td>No internet service</td>\n",
       "    </tr>\n",
       "    <tr>\n",
       "      <th>3</th>\n",
       "      <td>70</td>\n",
       "      <td>120</td>\n",
       "      <td>8500</td>\n",
       "      <td>DSL</td>\n",
       "      <td>Yes</td>\n",
       "      <td>Yes</td>\n",
       "    </tr>\n",
       "  </tbody>\n",
       "</table>\n",
       "</div>"
      ],
      "text/plain": [
       "   tenure  MonthlyCharges  TotalCharges InternetService     MultipleLines  \\\n",
       "0       1              20            20             DSL                No   \n",
       "1      15              50           750     Fiber optic               Yes   \n",
       "2      40             100          4000              No  No phone service   \n",
       "3      70             120          8500             DSL               Yes   \n",
       "\n",
       "        OnlineSecurity  \n",
       "0                  Yes  \n",
       "1                   No  \n",
       "2  No internet service  \n",
       "3                  Yes  "
      ]
     },
     "execution_count": 15,
     "metadata": {},
     "output_type": "execute_result"
    }
   ],
   "source": [
    "import pandas as pd\n",
    "\n",
    "# Crear un DataFrame de prueba\n",
    "data = {\n",
    "    'tenure': [1, 15, 40, 70],  # Diferentes valores de antigüedad\n",
    "    'MonthlyCharges': [20, 50, 100, 120],  # Cargos mensuales variados\n",
    "    'TotalCharges': [20, 750, 4000, 8500],  # Totales para verificar RevenueAdjustment\n",
    "    'InternetService': ['DSL', 'Fiber optic', 'No', 'DSL'],  # Casos de simplificación\n",
    "    'MultipleLines': ['No', 'Yes', 'No phone service', 'Yes'],  # Casos de simplificación\n",
    "    'OnlineSecurity': ['Yes', 'No', 'No internet service', 'Yes']  # Casos de simplificación\n",
    "}\n",
    "\n",
    "df = pd.DataFrame(data)\n",
    "df"
   ]
  },
  {
   "cell_type": "code",
   "execution_count": 16,
   "metadata": {},
   "outputs": [],
   "source": [
    "from src.preprocess import FeatureEngineering\n",
    "\n",
    "# Crear una instancia de la clase\n",
    "fe = FeatureEngineering()"
   ]
  },
  {
   "cell_type": "code",
   "execution_count": 17,
   "metadata": {},
   "outputs": [
    {
     "name": "stdout",
     "output_type": "stream",
     "text": [
      "DataFrame Original:\n",
      "\n",
      "DataFrame Transformado:\n"
     ]
    },
    {
     "data": {
      "text/plain": [
       "None"
      ]
     },
     "metadata": {},
     "output_type": "display_data"
    }
   ],
   "source": [
    "# Aplicar las transformaciones\n",
    "fe.fit(df)\n",
    "transformed_df = fe.transform(df)\n",
    "\n",
    "print(\"DataFrame Original:\")\n",
    "#display(df)\n",
    "print(\"\\nDataFrame Transformado:\")\n",
    "display(transformed_df)"
   ]
  },
  {
   "cell_type": "markdown",
   "metadata": {},
   "source": [
    "### Feature Selection"
   ]
  },
  {
   "cell_type": "code",
   "execution_count": 18,
   "metadata": {},
   "outputs": [],
   "source": [
    "data = {\n",
    "    'feature1': [1, 2, 3],\n",
    "    'feature2': [4, 5, 6],\n",
    "    'feature3': ['A', 'B', 'C'],\n",
    "    'feature4': ['X', 'Y', 'Z'],\n",
    "    'target': [0, 1, 0]\n",
    "}\n",
    "df = pd.DataFrame(data)"
   ]
  },
  {
   "cell_type": "code",
   "execution_count": 19,
   "metadata": {},
   "outputs": [],
   "source": [
    "cf.num_features_to_drop = ['feature1', 'feature2']\n",
    "cf.cat_features_to_drop = ['feature3']"
   ]
  },
  {
   "cell_type": "code",
   "execution_count": 20,
   "metadata": {},
   "outputs": [
    {
     "name": "stdout",
     "output_type": "stream",
     "text": [
      "Original DataFrame:\n",
      "   feature1  feature2 feature3 feature4  target\n",
      "0         1         4        A        X       0\n",
      "1         2         5        B        Y       1\n",
      "2         3         6        C        Z       0\n",
      "\n",
      "DataFrame después de Feature Selection:\n",
      "  feature4  target\n",
      "0        X       0\n",
      "1        Y       1\n",
      "2        Z       0\n"
     ]
    }
   ],
   "source": [
    "from src.preprocess import FeatureSelector\n",
    "\n",
    "selector = FeatureSelector()\n",
    "selector.fit(df)\n",
    "transformed_df = selector.transform(df)\n",
    "\n",
    "print(\"Original DataFrame:\")\n",
    "print(df)\n",
    "print(\"\\nDataFrame después de Feature Selection:\")\n",
    "print(transformed_df)"
   ]
  }
 ],
 "metadata": {
  "kernelspec": {
   "display_name": "Python 3",
   "language": "python",
   "name": "python3"
  },
  "language_info": {
   "codemirror_mode": {
    "name": "ipython",
    "version": 3
   },
   "file_extension": ".py",
   "mimetype": "text/x-python",
   "name": "python",
   "nbconvert_exporter": "python",
   "pygments_lexer": "ipython3",
   "version": "3.11.1"
  }
 },
 "nbformat": 4,
 "nbformat_minor": 2
}
